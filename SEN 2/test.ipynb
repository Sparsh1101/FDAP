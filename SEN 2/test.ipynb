{
 "cells": [
  {
   "cell_type": "code",
   "execution_count": 9,
   "metadata": {},
   "outputs": [
    {
     "name": "stdout",
     "output_type": "stream",
     "text": [
      "6\n"
     ]
    }
   ],
   "source": [
    "print(2+4)"
   ]
  },
  {
   "cell_type": "code",
   "execution_count": 10,
   "metadata": {},
   "outputs": [
    {
     "name": "stdout",
     "output_type": "stream",
     "text": [
      "Sending mail to: {'To': 'sparshtgupta@gmail.com', 'Cc': 'devansh.ts@somaiya.edu, hardikriyasparsh@gmail.com,  hardik.kj@somaiya.edu, riya.rege@somaiya.edu', 'Bcc': ''}\n",
      "Mail sent successfully! Sent at: 2023-04-25 16:39:56.704546\n"
     ]
    }
   ],
   "source": [
    "import sys\n",
    "sys.argv = [{\"test_var\":\"Testing\",\"successful_execution\":True,\"fileNameToAttach\": \"test.ipynb\"}]\n",
    "execfile(\"mailing.py\")"
   ]
  },
  {
   "cell_type": "code",
   "execution_count": null,
   "metadata": {},
   "outputs": [],
   "source": []
  }
 ],
 "metadata": {
  "kernelspec": {
   "display_name": "Python 3.10.10 64-bit",
   "language": "python",
   "name": "python3"
  },
  "language_info": {
   "codemirror_mode": {
    "name": "ipython",
    "version": 3
   },
   "file_extension": ".py",
   "mimetype": "text/x-python",
   "name": "python",
   "nbconvert_exporter": "python",
   "pygments_lexer": "ipython3",
   "version": "3.10.10"
  },
  "orig_nbformat": 4,
  "vscode": {
   "interpreter": {
    "hash": "3196968d684371006099b3d55edeef8ed90365227a30deaef86e5d4aa8519be0"
   }
  }
 },
 "nbformat": 4,
 "nbformat_minor": 2
}
