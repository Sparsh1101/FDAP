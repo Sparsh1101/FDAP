{
  "cells": [
    {
      "cell_type": "code",
      "execution_count": 1,
      "metadata": {
        "id": "HR_BQDzxwFKe"
      },
      "outputs": [],
      "source": [
        "# Importing the necessary libraries\n",
        "from osgeo import gdal\n",
        "import numpy as np\n",
        "import matplotlib.pyplot as plt\n",
        "from sklearn.cluster import DBSCAN\n",
        "import sklearn\n",
        "import scipy as sp\n",
        "from sklearn.preprocessing import StandardScaler\n",
        "from sklearn.neighbors import NearestNeighbors\n",
        "from kneed import KneeLocator\n",
        "import sys"
      ]
    },
    {
      "cell_type": "code",
      "execution_count": 2,
      "metadata": {},
      "outputs": [],
      "source": [
        "# Calculating Cumulative Count Cut\n",
        "def scaleCCC(x):\n",
        "  return((x - np.nanpercentile(x, 2))/(np.nanpercentile(x, 98) - np.nanpercentile(x,2)))\n",
        "\n",
        "def applyCCC(img):\n",
        "  # Extracting individual bands(4,8,12) from the uploaded images\n",
        "  band4 = img.GetRasterBand(1).ReadAsArray()\n",
        "  band8 = img.GetRasterBand(2).ReadAsArray()\n",
        "  band12 = img.GetRasterBand(3).ReadAsArray()\n",
        "  ccc4 = scaleCCC(band4)\n",
        "  ccc8 = scaleCCC(band8)\n",
        "  ccc12 = scaleCCC(band12)\n",
        "  # Creating a new image by combining the three bands\n",
        "  return(np.dstack((ccc4,ccc8,ccc12)))"
      ]
    },
    {
      "cell_type": "code",
      "execution_count": 3,
      "metadata": {},
      "outputs": [],
      "source": [
        "def process_image(img):\n",
        "    data = img.ReadAsArray()\n",
        "    data = np.moveaxis(data, 0, -1)\n",
        "    rows, cols, bands = data.shape\n",
        "    data_2d = data.reshape(rows*cols, bands)\n",
        "    data_2d_scaled = scaler.fit_transform(data_2d)\n",
        "    data_2d_scaled = np.nan_to_num(data_2d_scaled)\n",
        "    return data_2d_scaled"
      ]
    },
    {
      "cell_type": "code",
      "execution_count": 4,
      "metadata": {},
      "outputs": [],
      "source": [
        "# Defining Plot Function\n",
        "\n",
        "def plot_image(plt_img):\n",
        "  plt.figure()\n",
        "  plt.imshow(plt_img)\n",
        "  plt.show()"
      ]
    },
    {
      "cell_type": "code",
      "execution_count": 5,
      "metadata": {},
      "outputs": [],
      "source": [
        "# Running the DBSCAN Algorithm\n",
        "first = True\n",
        "first2 = True\n",
        "scaler = StandardScaler()\n",
        "\n",
        "for i in range(3,71):\n",
        "    # List of images\n",
        "    images_list=[str(i)+ \"_P_256.tif\", str(i) +\"_A_256.tif\"]\n",
        "    images = []\n",
        "    # Opening the satellite images\n",
        "    for img_name in images_list:\n",
        "        img = gdal.Open('./ALL_FLOOD_256/'+ img_name)\n",
        "        data_2d_scaled = process_image(img)\n",
        "\n",
        "        if(first):\n",
        "            train_image=data_2d_scaled\n",
        "            first = False\n",
        "        else:\n",
        "            train_image = np.concatenate([data_2d_scaled, train_image], axis=0)\n",
        "    if (first2):\n",
        "        combined_data = train_image\n",
        "    else:\n",
        "        combined_data = np.concatenate([combined_data, train_image], axis=0)"
      ]
    },
    {
      "cell_type": "code",
      "execution_count": 6,
      "metadata": {},
      "outputs": [],
      "source": [
        "# Opening the test images\n",
        "imgP = gdal.Open(\"./ALL_FLOOD_256/2_P_256.tif\")\n",
        "imgA = gdal.Open(\"./ALL_FLOOD_256/2_A_256.tif\")\n",
        "\n",
        "before_img = applyCCC(imgP)\n",
        "after_img = applyCCC(imgA)\n",
        "\n",
        "data_2d_scaled_before = process_image(imgP)\n",
        "data_2d_scaled_after = process_image(imgA)"
      ]
    },
    {
      "cell_type": "code",
      "execution_count": 7,
      "metadata": {},
      "outputs": [],
      "source": [
        "images = []\n",
        "for i in range(3,71):\n",
        "    # List of images\n",
        "    images_list=[str(i)+ \"_P_256.tif\", str(i) +\"_A_256.tif\"]\n",
        "    for img_name in images_list:\n",
        "        img = gdal.Open('./ALL_FLOOD_256/'+ img_name)\n",
        "        images.append(img)"
      ]
    },
    {
      "cell_type": "code",
      "execution_count": 8,
      "metadata": {},
      "outputs": [],
      "source": [
        "import csv\n",
        "# headerList = [\"Min Samples\",\"Epsilon\",\"No. of Before Clusters\", \"No. of After Clusters\", \"No. of Before Noise points\", \"No. of After Noise points\"]\n",
        "\n",
        "# with open('./myfile.csv', 'a', newline='') as f:\n",
        "#     writer = csv.DictWriter(f,fieldnames=headerList)\n",
        "#     writer.writeheader()\n",
        "\n",
        "for k in range(20, 10000, 10):\n",
        "    nearest_neighbors = NearestNeighbors(n_neighbors=k)\n",
        "    neighbors = nearest_neighbors.fit(combined_data)\n",
        "    distances, indices = neighbors.kneighbors(combined_data)\n",
        "    distances = np.sort(distances[:,k-1], axis=0)\n",
        "    i = np.arange(len(distances))\n",
        "    knee = KneeLocator(i, distances, S=1, curve='convex', direction='increasing', interp_method='polynomial')\n",
        "    epsilon = distances[knee.knee]\n",
        "    epsilon -= 0.05\n",
        "    max_epsilon = epsilon+0.1\n",
        "\n",
        "    while(epsilon < max_epsilon):\n",
        "        \n",
        "        dbscan_model = DBSCAN(eps=epsilon, min_samples = k)\n",
        "        first = True\n",
        "        first2 = True\n",
        "        for i in range(0, len(images), 2):\n",
        "            for j in range(2):\n",
        "                img = images[i+j]\n",
        "                data_2d_scaled = process_image(img)\n",
        "                if(first):\n",
        "                    train_image=data_2d_scaled\n",
        "                    first = False\n",
        "                else:\n",
        "                    train_image = np.concatenate([data_2d_scaled, train_image], axis=0)\n",
        "            if (first2):\n",
        "                combined_data = train_image\n",
        "            else:\n",
        "                combined_data = np.concatenate([combined_data, train_image], axis=0)\n",
        "            dbscan_model.fit(combined_data)\n",
        "            print(dbscan_model.labels_.shape)\n",
        "        \n",
        "        dbscan_before_labels = dbscan_model.fit_predict(data_2d_scaled_before)\n",
        "        core_samples_mask_before = np.zeros_like(dbscan_before_labels, dtype=bool)\n",
        "        core_samples_mask_before[dbscan_model.core_sample_indices_] = True\n",
        "        labels_before = dbscan_before_labels\n",
        "        n_clusters_before = len(set(labels_before))\n",
        "        n_noise_before = list(labels_before).count(-1)\n",
        "\n",
        "        dbscan_after_labels = dbscan_model.fit_predict(data_2d_scaled_after)\n",
        "        core_samples_mask_after = np.zeros_like(dbscan_after_labels, dtype=bool)\n",
        "        core_samples_mask_after[dbscan_model.core_sample_indices_] = True\n",
        "        labels_after = dbscan_after_labels\n",
        "        n_clusters_after = len(set(labels_after))\n",
        "        n_noise_after = list(labels_after).count(-1)\n",
        "\n",
        "        silhouetteScore = sklearn.metrics.silhouette_score(data_2d_scaled_after, dbscan_after_labels)\n",
        "        accuracy = ((silhouetteScore+1)/2)*100\n",
        "\n",
        "        with open('tuning.csv', 'a', newline='') as f:\n",
        "            writer = csv.writer(f)\n",
        "            print([k, epsilon, n_clusters_before, n_noise_before, n_clusters_after, n_noise_after, silhouetteScore, accuracy])\n",
        "            writer.writerow([k, epsilon, n_clusters_before, n_noise_before, n_clusters_after, n_noise_after, silhouetteScore, accuracy])"
      ]
    },
    {
      "cell_type": "code",
      "execution_count": null,
      "metadata": {},
      "outputs": [],
      "source": [
        "sys.argv = [{\"test_var\":\"Testing\",\"successful_execution\":True}]\n",
        "execfile(\"mailing.py\")"
      ]
    }
  ],
  "metadata": {
    "colab": {
      "provenance": []
    },
    "kernelspec": {
      "display_name": "Python 3.9.7 ('base')",
      "language": "python",
      "name": "python3"
    },
    "language_info": {
      "codemirror_mode": {
        "name": "ipython",
        "version": 3
      },
      "file_extension": ".py",
      "mimetype": "text/x-python",
      "name": "python",
      "nbconvert_exporter": "python",
      "pygments_lexer": "ipython3",
      "version": "3.7.0"
    },
    "vscode": {
      "interpreter": {
        "hash": "57bc2b6ce032b5f0e93daa91901b7ea38a856826ef43aa9e95b6d3999f5310df"
      }
    }
  },
  "nbformat": 4,
  "nbformat_minor": 0
}
