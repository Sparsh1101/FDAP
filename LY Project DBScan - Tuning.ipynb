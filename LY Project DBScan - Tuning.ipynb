{
  "cells": [
    {
      "cell_type": "code",
      "execution_count": 1,
      "metadata": {
        "id": "HR_BQDzxwFKe"
      },
      "outputs": [],
      "source": [
        "# Importing the necessary libraries\n",
        "from osgeo import gdal\n",
        "import numpy as np\n",
        "import matplotlib.pyplot as plt\n",
        "from sklearn.cluster import DBSCAN\n",
        "import sklearn\n",
        "import scipy as sp\n",
        "from sklearn.preprocessing import StandardScaler\n",
        "from sklearn.neighbors import NearestNeighbors\n",
        "from kneed import KneeLocator"
      ]
    },
    {
      "cell_type": "code",
      "execution_count": 2,
      "metadata": {},
      "outputs": [],
      "source": [
        "def readAsArray(img):\n",
        "  band1 = img.GetRasterBand(1).ReadAsArray()\n",
        "  return(band1)"
      ]
    },
    {
      "cell_type": "code",
      "execution_count": 3,
      "metadata": {},
      "outputs": [],
      "source": [
        "def process_image(img):\n",
        "    data = img.ReadAsArray()\n",
        "    data = np.moveaxis(data, 0, -1)\n",
        "    rows, cols, bands = data.shape\n",
        "    data_2d = data.reshape(rows*cols, bands)\n",
        "    data_2d_scaled = scaler.fit_transform(data_2d)\n",
        "    data_2d_scaled = np.nan_to_num(data_2d_scaled)\n",
        "    return data_2d_scaled"
      ]
    },
    {
      "cell_type": "code",
      "execution_count": 4,
      "metadata": {},
      "outputs": [],
      "source": [
        "# Defining Plot Function\n",
        "\n",
        "def plot_image(plt_img):\n",
        "  plt.figure()\n",
        "  plt.imshow(plt_img)\n",
        "  plt.show()"
      ]
    },
    {
      "cell_type": "code",
      "execution_count": 5,
      "metadata": {},
      "outputs": [],
      "source": [
        "# Running the DBSCAN Algorithm\n",
        "first = True\n",
        "first2 = True\n",
        "scaler = StandardScaler()\n",
        "\n",
        "for i in range(2,13):\n",
        "    # List of images\n",
        "    images_list=[str(i)+ \"_P_256.tif\", str(i) +\"_A_256.tif\"]\n",
        "    images = []\n",
        "    # Opening the satellite images\n",
        "    for img_name in images_list:\n",
        "        img = gdal.Open('./ALL_FLOOD_256/'+ img_name)\n",
        "        data_2d_scaled = process_image(img)\n",
        "\n",
        "        if(first):\n",
        "            train_image=data_2d_scaled\n",
        "            first = False\n",
        "        else:\n",
        "            train_image = np.concatenate([data_2d_scaled, train_image], axis=0)\n",
        "    if (first2):\n",
        "        combined_data = train_image\n",
        "    else:\n",
        "        combined_data = np.concatenate([combined_data, train_image], axis=0)"
      ]
    },
    {
      "cell_type": "code",
      "execution_count": 6,
      "metadata": {},
      "outputs": [],
      "source": [
        "# Opening the test images\n",
        "imgP = gdal.Open(\"./ALL_FLOOD_256/1_P_256.tif\")\n",
        "imgA = gdal.Open(\"./ALL_FLOOD_256/1_A_256.tif\")\n",
        "\n",
        "before_img = readAsArray(imgP)\n",
        "after_img = readAsArray(imgA)\n",
        "\n",
        "data_2d_scaled_before = process_image(imgP)\n",
        "data_2d_scaled_after = process_image(imgA)"
      ]
    },
    {
      "cell_type": "code",
      "execution_count": 7,
      "metadata": {},
      "outputs": [
        {
          "name": "stdout",
          "output_type": "stream",
          "text": [
            "(131072,)\n",
            "[20, 0.045856970388257354, 27, 10628, 36, 8715]\n",
            "(131072,)\n",
            "[20, 0.046856970388257355, 31, 10288, 35, 8319]\n",
            "(131072,)\n",
            "[20, 0.047856970388257355, 28, 10114, 37, 7996]\n",
            "(131072,)\n",
            "[20, 0.048856970388257356, 32, 9812, 29, 7622]\n",
            "(131072,)\n",
            "[20, 0.04985697038825736, 37, 9467, 23, 7233]\n",
            "(131072,)\n",
            "[20, 0.05085697038825736, 40, 9087, 30, 6772]\n",
            "(131072,)\n",
            "[20, 0.05185697038825736, 38, 8806, 25, 6480]\n",
            "(131072,)\n",
            "[20, 0.05285697038825736, 40, 8542, 24, 6193]\n",
            "(131072,)\n",
            "[20, 0.05385697038825736, 35, 8344, 21, 5988]\n",
            "(131072,)\n",
            "[20, 0.05485697038825736, 38, 8056, 20, 5773]\n",
            "(131072,)\n",
            "[20, 0.05585697038825736, 33, 7795, 18, 5553]\n"
          ]
        }
      ],
      "source": [
        "import csv\n",
        "# headerList = [\"Min Samples\",\"Epsilon\",\"No. of Before Clusters\", \"No. of After Clusters\", \"No. of Before Noise points\", \"No. of After Noise points\"]\n",
        "\n",
        "# with open('./myfile.csv', 'a', newline='') as f:\n",
        "#     writer = csv.DictWriter(f,fieldnames=headerList)\n",
        "#     writer.writeheader()\n",
        "    \n",
        "for k in range (20,300,10):\n",
        "    nearest_neighbors = NearestNeighbors(n_neighbors=k)\n",
        "    neighbors = nearest_neighbors.fit(combined_data)\n",
        "    distances, indices = neighbors.kneighbors(combined_data)\n",
        "    distances = np.sort(distances[:,k-1], axis=0)\n",
        "    i = np.arange(len(distances))\n",
        "    knee = KneeLocator(i, distances, S=1, curve='convex', direction='increasing', interp_method='polynomial')\n",
        "    epsilon = distances[knee.knee]\n",
        "    epsilon -=0.005\n",
        "    max_epsilon = epsilon+0.011\n",
        "\n",
        "    while (epsilon<=max_epsilon):\n",
        "\n",
        "        dbscan_model = DBSCAN(eps=epsilon, min_samples = k)\n",
        "        first = True\n",
        "        first2 = True\n",
        "        for i in range(2,13):\n",
        "            # List of images\n",
        "            images_list=[str(i)+ \"_P_256.tif\", str(i) +\"_A_256.tif\"]\n",
        "            for img_name in images_list:\n",
        "                img = gdal.Open('./ALL_FLOOD_256/'+ img_name)\n",
        "                data_2d_scaled = process_image(img)\n",
        "                if(first):\n",
        "                    train_image=data_2d_scaled\n",
        "                    first = False\n",
        "                else:\n",
        "                    train_image = np.concatenate([data_2d_scaled, train_image], axis=0)\n",
        "            if (first2):\n",
        "                combined_data = train_image\n",
        "            else:\n",
        "                combined_data = np.concatenate([combined_data, train_image], axis=0)\n",
        "            dbscan_model.fit(combined_data)\n",
        "            print(dbscan_model.labels_.shape)\n",
        "        \n",
        "\n",
        "        dbscan_before_labels = dbscan_model.fit_predict(data_2d_scaled_before)\n",
        "        core_samples_mask_before = np.zeros_like(dbscan_before_labels, dtype=bool)\n",
        "        core_samples_mask_before[dbscan_model.core_sample_indices_] = True\n",
        "        labels_before = dbscan_before_labels\n",
        "        n_clusters_before = len(set(labels_before)) - (1 if -1 in labels_before else 0)\n",
        "        n_noise_before = list(labels_before).count(-1)\n",
        "\n",
        "        dbscan_after_labels = dbscan_model.fit_predict(data_2d_scaled_after)\n",
        "        core_samples_mask_after = np.zeros_like(dbscan_after_labels, dtype=bool)\n",
        "        core_samples_mask_after[dbscan_model.core_sample_indices_] = True\n",
        "        labels_after = dbscan_after_labels\n",
        "        n_clusters_after = len(set(labels_after)) - (1 if -1 in labels_after else 0)\n",
        "        n_noise_after = list(labels_after).count(-1)\n",
        "\n",
        "        with open('tuning.csv', 'a', newline='') as f:\n",
        "            writer = csv.writer(f)\n",
        "            print([k, epsilon, n_clusters_before, n_noise_before, n_clusters_after, n_noise_after])\n",
        "            writer.writerow([k, epsilon, n_clusters_before, n_noise_before, n_clusters_after, n_noise_after])\n",
        "        epsilon+=0.001"
      ]
    },
    {
      "cell_type": "code",
      "execution_count": 8,
      "metadata": {},
      "outputs": [
        {
          "name": "stdout",
          "output_type": "stream",
          "text": [
            "Sending mail to: {'To': 'sparshtgupta@gmail.com', 'Cc': 'devansh.ts@somaiya.edu, hardikriyasparsh@gmail.com,  hardik.kj@somaiya.edu, riya.rege@somaiya.edu', 'Bcc': ''}\n",
            "Mail sent successfully! Sent at: 2023-04-18 09:23:12.019739\n"
          ]
        }
      ],
      "source": [
        "import sys\n",
        "sys.argv = [{\"test_var\":\"Testing\",\"successful_execution\":True}]\n",
        "execfile(\"mailing.py\")"
      ]
    }
  ],
  "metadata": {
    "colab": {
      "provenance": []
    },
    "kernelspec": {
      "display_name": "Python 3.9.7 ('base')",
      "language": "python",
      "name": "python3"
    },
    "language_info": {
      "codemirror_mode": {
        "name": "ipython",
        "version": 3
      },
      "file_extension": ".py",
      "mimetype": "text/x-python",
      "name": "python",
      "nbconvert_exporter": "python",
      "pygments_lexer": "ipython3",
      "version": "3.7.0"
    },
    "vscode": {
      "interpreter": {
        "hash": "57bc2b6ce032b5f0e93daa91901b7ea38a856826ef43aa9e95b6d3999f5310df"
      }
    }
  },
  "nbformat": 4,
  "nbformat_minor": 0
}
