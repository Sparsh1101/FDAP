{
  "cells": [
    {
      "cell_type": "code",
      "execution_count": 1,
      "metadata": {
        "id": "HR_BQDzxwFKe"
      },
      "outputs": [],
      "source": [
        "# Importing the necessary libraries\n",
        "from osgeo import gdal\n",
        "import numpy as np\n",
        "import matplotlib.pyplot as plt\n",
        "from sklearn.cluster import DBSCAN\n",
        "import sklearn\n",
        "import scipy as sp\n",
        "from sklearn.preprocessing import StandardScaler\n",
        "from sklearn.neighbors import NearestNeighbors\n",
        "from kneed import KneeLocator"
      ]
    },
    {
      "cell_type": "code",
      "execution_count": 2,
      "metadata": {},
      "outputs": [],
      "source": [
        "def readAsArray(img):\n",
        "  band1 = img.GetRasterBand(1).ReadAsArray()\n",
        "  return(band1)"
      ]
    },
    {
      "cell_type": "code",
      "execution_count": 3,
      "metadata": {},
      "outputs": [],
      "source": [
        "def process_image(img):\n",
        "    data = img.ReadAsArray()\n",
        "    data = np.moveaxis(data, 0, -1)\n",
        "    rows, cols, bands = data.shape\n",
        "    data_2d = data.reshape(rows*cols, bands)\n",
        "    data_2d_scaled = scaler.fit_transform(data_2d)\n",
        "    data_2d_scaled = np.nan_to_num(data_2d_scaled)\n",
        "    return data_2d_scaled"
      ]
    },
    {
      "cell_type": "code",
      "execution_count": 4,
      "metadata": {},
      "outputs": [],
      "source": [
        "# Defining Plot Function\n",
        "\n",
        "def plot_image(plt_img):\n",
        "  plt.figure()\n",
        "  plt.imshow(plt_img)\n",
        "  plt.show()"
      ]
    },
    {
      "cell_type": "code",
      "execution_count": 5,
      "metadata": {},
      "outputs": [],
      "source": [
        "# Running the DBSCAN Algorithm\n",
        "first = True\n",
        "first2 = True\n",
        "scaler = StandardScaler()\n",
        "\n",
        "for i in range(2,3):\n",
        "    # List of images\n",
        "    images_list=[str(i)+ \"_P_256.tif\", str(i) +\"_A_256.tif\"]\n",
        "    images = []\n",
        "    # Opening the satellite images\n",
        "    for img_name in images_list:\n",
        "        img = gdal.Open('./ALL_FLOOD_256/'+ img_name)\n",
        "        data_2d_scaled = process_image(img)\n",
        "\n",
        "        if(first):\n",
        "            train_image=data_2d_scaled\n",
        "            first = False\n",
        "        else:\n",
        "            train_image = np.concatenate([data_2d_scaled, train_image], axis=0)\n",
        "    if (first2):\n",
        "        combined_data = train_image\n",
        "    else:\n",
        "        combined_data = np.concatenate([combined_data, train_image], axis=0)"
      ]
    },
    {
      "cell_type": "code",
      "execution_count": 6,
      "metadata": {},
      "outputs": [],
      "source": [
        "# Opening the test images\n",
        "imgP = gdal.Open(\"./ALL_FLOOD_256/1_P_256.tif\")\n",
        "imgA = gdal.Open(\"./ALL_FLOOD_256/1_A_256.tif\")\n",
        "\n",
        "before_img = readAsArray(imgP)\n",
        "after_img = readAsArray(imgA)\n",
        "\n",
        "data_2d_scaled_before = process_image(imgP)\n",
        "data_2d_scaled_after = process_image(imgA)"
      ]
    },
    {
      "cell_type": "code",
      "execution_count": 7,
      "metadata": {},
      "outputs": [
        {
          "name": "stdout",
          "output_type": "stream",
          "text": [
            "(131072,)\n",
            "[50, 0.07639912863844894, 4, 10524, 5, 8267]\n",
            "(131072,)\n",
            "[50, 0.07739912863844894, 4, 10366, 5, 7990]\n",
            "(131072,)\n",
            "[50, 0.07839912863844894, 5, 10193, 6, 7807]\n",
            "(131072,)\n",
            "[50, 0.07939912863844895, 6, 10033, 4, 7519]\n",
            "(131072,)\n",
            "[50, 0.08039912863844895, 7, 9832, 4, 7326]\n",
            "(131072,)\n",
            "[50, 0.08139912863844895, 8, 9570, 2, 7030]\n",
            "(131072,)\n",
            "[50, 0.08239912863844895, 8, 9440, 2, 6829]\n",
            "(131072,)\n",
            "[50, 0.08339912863844895, 8, 9228, 1, 6570]\n",
            "(131072,)\n",
            "[50, 0.08439912863844895, 12, 8880, 3, 6336]\n",
            "(131072,)\n",
            "[50, 0.08539912863844895, 8, 8737, 4, 6196]\n",
            "(131072,)\n",
            "[50, 0.08639912863844895, 5, 8617, 5, 6027]\n"
          ]
        }
      ],
      "source": [
        "import csv\n",
        "# headerList = [\"Min Samples\",\"Epsilon\",\"No. of Before Clusters\", \"No. of After Clusters\", \"No. of Before Noise points\", \"No. of After Noise points\"]\n",
        "\n",
        "# with open('./myfile.csv', 'a', newline='') as f:\n",
        "#     writer = csv.DictWriter(f,fieldnames=headerList)\n",
        "#     writer.writeheader()\n",
        "    \n",
        "for k in range (50,60,10):\n",
        "    nearest_neighbors = NearestNeighbors(n_neighbors=k)\n",
        "    neighbors = nearest_neighbors.fit(combined_data)\n",
        "    distances, indices = neighbors.kneighbors(combined_data)\n",
        "    distances = np.sort(distances[:,k-1], axis=0)\n",
        "    i = np.arange(len(distances))\n",
        "    knee = KneeLocator(i, distances, S=1, curve='convex', direction='increasing', interp_method='polynomial')\n",
        "    epsilon = distances[knee.knee]\n",
        "    epsilon -=0.005\n",
        "    max_epsilon = epsilon+0.011\n",
        "\n",
        "    while (epsilon<=max_epsilon):\n",
        "\n",
        "        dbscan_model = DBSCAN(eps=epsilon, min_samples = k)\n",
        "        first = True\n",
        "        first2 = True\n",
        "        for i in range(2,3):\n",
        "            # List of images\n",
        "            images_list=[str(i)+ \"_P_256.tif\", str(i) +\"_A_256.tif\"]\n",
        "            for img_name in images_list:\n",
        "                img = gdal.Open('./ALL_FLOOD_256/'+ img_name)\n",
        "                data_2d_scaled = process_image(img)\n",
        "                if(first):\n",
        "                    train_image=data_2d_scaled\n",
        "                    first = False\n",
        "                else:\n",
        "                    train_image = np.concatenate([data_2d_scaled, train_image], axis=0)\n",
        "            if (first2):\n",
        "                combined_data = train_image\n",
        "            else:\n",
        "                combined_data = np.concatenate([combined_data, train_image], axis=0)\n",
        "            dbscan_model.fit(combined_data)\n",
        "            print(dbscan_model.labels_.shape)\n",
        "        \n",
        "\n",
        "        dbscan_before_labels = dbscan_model.fit_predict(data_2d_scaled_before)\n",
        "        core_samples_mask_before = np.zeros_like(dbscan_before_labels, dtype=bool)\n",
        "        core_samples_mask_before[dbscan_model.core_sample_indices_] = True\n",
        "        labels_before = dbscan_before_labels\n",
        "        n_clusters_before = len(set(labels_before)) - (1 if -1 in labels_before else 0)\n",
        "        n_noise_before = list(labels_before).count(-1)\n",
        "\n",
        "        dbscan_after_labels = dbscan_model.fit_predict(data_2d_scaled_after)\n",
        "        core_samples_mask_after = np.zeros_like(dbscan_after_labels, dtype=bool)\n",
        "        core_samples_mask_after[dbscan_model.core_sample_indices_] = True\n",
        "        labels_after = dbscan_after_labels\n",
        "        n_clusters_after = len(set(labels_after)) - (1 if -1 in labels_after else 0)\n",
        "        n_noise_after = list(labels_after).count(-1)\n",
        "\n",
        "        with open('tuning.csv', 'a', newline='') as f:\n",
        "            writer = csv.writer(f)\n",
        "            print([k, epsilon, n_clusters_before, n_noise_before, n_clusters_after, n_noise_after])\n",
        "            writer.writerow([k, epsilon, n_clusters_before, n_noise_before, n_clusters_after, n_noise_after])\n",
        "        epsilon+=0.001"
      ]
    },
    {
      "cell_type": "markdown",
      "metadata": {},
      "source": []
    },
    {
      "cell_type": "code",
      "execution_count": 8,
      "metadata": {},
      "outputs": [
        {
          "name": "stdout",
          "output_type": "stream",
          "text": [
            "Sending mail to: {'To': 'sparshtgupta@gmail.com', 'Cc': 'hardikriyasparsh@gmail.com', 'Bcc': ''}\n",
            "Mail sent successfully! Sent at: 2023-04-18 09:04:10.330286\n"
          ]
        }
      ],
      "source": [
        "import sys\n",
        "sys.argv = [{\"test_var\":\"Testing\",\"successful_execution\":True}]\n",
        "execfile(\"mailing.py\")"
      ]
    }
  ],
  "metadata": {
    "colab": {
      "provenance": []
    },
    "kernelspec": {
      "display_name": "Python 3.9.7 ('base')",
      "language": "python",
      "name": "python3"
    },
    "language_info": {
      "codemirror_mode": {
        "name": "ipython",
        "version": 3
      },
      "file_extension": ".py",
      "mimetype": "text/x-python",
      "name": "python",
      "nbconvert_exporter": "python",
      "pygments_lexer": "ipython3",
      "version": "3.7.0"
    },
    "vscode": {
      "interpreter": {
        "hash": "57bc2b6ce032b5f0e93daa91901b7ea38a856826ef43aa9e95b6d3999f5310df"
      }
    }
  },
  "nbformat": 4,
  "nbformat_minor": 0
}
