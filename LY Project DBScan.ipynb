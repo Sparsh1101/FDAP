{
  "cells": [
    {
      "cell_type": "code",
      "execution_count": 1,
      "metadata": {
        "id": "HR_BQDzxwFKe"
      },
      "outputs": [],
      "source": [
        "# Importing the necessary libraries\n",
        "from osgeo import gdal\n",
        "import numpy as np\n",
        "import matplotlib.pyplot as plt\n",
        "from sklearn.cluster import DBSCAN\n",
        "import sklearn\n",
        "import scipy as sp\n",
        "from sklearn.neighbors import NearestNeighbors\n",
        "from kneed import KneeLocator"
      ]
    },
    {
      "cell_type": "code",
      "execution_count": 2,
      "metadata": {},
      "outputs": [],
      "source": [
        "# Calculating Cumulative Count Cut\n",
        "def scaleCCC(x):\n",
        "  return((x - np.nanpercentile(x, 2))/(np.nanpercentile(x, 98) - np.nanpercentile(x,2)))\n",
        "\n",
        "def readAsArray(img):\n",
        "  # Extracting individual bands(4,8,12) from the uploaded images\n",
        "  band4 = img.GetRasterBand(1).ReadAsArray()\n",
        "  band8 = img.GetRasterBand(2).ReadAsArray()\n",
        "  band12 = img.GetRasterBand(3).ReadAsArray()\n",
        "  # Creating a new image by combining the three bands\n",
        "  return(np.dstack((band4, band8, band12)))\n",
        "\n",
        "def applyCCC(img):\n",
        "  # Extracting individual bands(4,8,12) from the uploaded images\n",
        "  band4 = img.GetRasterBand(1).ReadAsArray()\n",
        "  band8 = img.GetRasterBand(2).ReadAsArray()\n",
        "  band12 = img.GetRasterBand(3).ReadAsArray()\n",
        "  ccc4 = scaleCCC(band4)\n",
        "  ccc8 = scaleCCC(band8)\n",
        "  ccc12 = scaleCCC(band12)\n",
        "  # Creating a new image by combining the three bands\n",
        "  return(np.dstack((ccc4,ccc8,ccc12)))"
      ]
    },
    {
      "cell_type": "code",
      "execution_count": 4,
      "metadata": {},
      "outputs": [],
      "source": [
        "# Reshaping the images\n",
        "def reshape_images():\n",
        "  reshaped_images=[]\n",
        "  for i in range(len(images)):\n",
        "    new_shape = (images[i].shape[0] * images[i].shape[1], images[i].shape[2])\n",
        "    new_image = images[i][:, :, :3].reshape(new_shape)\n",
        "    reshaped_images.append(new_image)\n",
        "\n",
        "  # Concatenating all the arrays\n",
        "  combined_image = reshaped_images[0]\n",
        "  for i in range(1, len(reshaped_images)):\n",
        "    combined_image = np.concatenate((combined_image, reshaped_images[i]), axis=0)\n",
        "\n",
        "  # Removing nan values\n",
        "  train_image = np.nan_to_num(combined_image)\n",
        "  return train_image"
      ]
    },
    {
      "cell_type": "code",
      "execution_count": 5,
      "metadata": {},
      "outputs": [],
      "source": [
        "def plot_image(plt_img):\n",
        "  plt.figure()\n",
        "  plt.imshow(plt_img)\n",
        "  plt.show()"
      ]
    },
    {
      "cell_type": "code",
      "execution_count": 6,
      "metadata": {},
      "outputs": [],
      "source": [
        "def dbscan(model, trn_img):\n",
        "\treturn model.fit(trn_img)"
      ]
    },
    {
      "cell_type": "code",
      "execution_count": 7,
      "metadata": {},
      "outputs": [],
      "source": [
        "for i in range(2,3):\n",
        "  images_list=[str(i)+ \"_P.tif\", str(i) +\"_A.tif\"]\n",
        "  images = []\n",
        "  for img_name in images_list:\n",
        "    img = gdal.Open('./ALL_FLOOD/'+ img_name)\n",
        "    modified_img = readAsArray(img)\n",
        "    images.append(modified_img)\n",
        "  train_image = reshape_images()"
      ]
    },
    {
      "cell_type": "code",
      "execution_count": 9,
      "metadata": {},
      "outputs": [
        {
          "name": "stdout",
          "output_type": "stream",
          "text": [
            "[20, 0.00016139202213211797, 1, 334422]\n",
            "[20, 0.001161392022132118, 145, 285482]\n",
            "[20, 0.002161392022132118, 206, 133168]\n",
            "[20, 0.003161392022132118, 78, 69252]\n",
            "[20, 0.004161392022132118, 67, 42692]\n",
            "[20, 0.005161392022132118, 29, 26620]\n",
            "[20, 0.006161392022132118, 24, 18512]\n",
            "[20, 0.007161392022132118, 11, 13898]\n",
            "[20, 0.008161392022132119, 9, 11246]\n",
            "[20, 0.00916139202213212, 12, 9307]\n",
            "[30, 0.0009413770525725125, 7, 303891]\n",
            "[30, 0.0019413770525725125, 149, 204204]\n",
            "[30, 0.0029413770525725125, 57, 98979]\n",
            "[30, 0.0039413770525725126, 24, 60100]\n",
            "[30, 0.004941377052572513, 25, 39787]\n",
            "[30, 0.005941377052572513, 18, 25877]\n",
            "[30, 0.006941377052572513, 11, 18932]\n",
            "[30, 0.007941377052572512, 9, 14478]\n",
            "[30, 0.008941377052572513, 4, 11749]\n",
            "[30, 0.009941377052572514, 8, 10081]\n",
            "[40, 0.0015543833021657797, 46, 282218]\n",
            "[40, 0.0025543833021657797, 57, 153654]\n",
            "[40, 0.0035543833021657797, 22, 84099]\n",
            "[40, 0.00455438330216578, 17, 54957]\n",
            "[40, 0.00555438330216578, 14, 38096]\n",
            "[40, 0.00655438330216578, 12, 25545]\n",
            "[40, 0.00755438330216578, 7, 19109]\n",
            "[40, 0.00855438330216578, 4, 14937]\n",
            "[40, 0.009554383302165782, 3, 12272]\n",
            "[40, 0.010554383302165782, 4, 10422]\n",
            "[50, 0.002071072237291959, 54, 239891]\n",
            "[50, 0.003071072237291959, 31, 125304]\n",
            "[50, 0.004071072237291959, 11, 75078]\n",
            "[50, 0.005071072237291959, 8, 51502]\n",
            "[50, 0.006071072237291959, 10, 36574]\n"
          ]
        }
      ],
      "source": [
        "import csv\n",
        "for k in range (20,101,10):\n",
        "    nearest_neighbors = NearestNeighbors(n_neighbors=k)\n",
        "    neighbors = nearest_neighbors.fit(train_image)\n",
        "    distances, indices = neighbors.kneighbors(train_image)\n",
        "    distances = np.sort(distances[:,k-1], axis=0)\n",
        "    i = np.arange(len(distances))\n",
        "    knee = KneeLocator(i, distances, S=1, curve='convex', direction='increasing', interp_method='polynomial')\n",
        "    epsilon = distances[knee.knee]\n",
        "    epsilon -=0.005\n",
        "    max_epsilon = epsilon+0.01\n",
        "    while (epsilon<=max_epsilon):\n",
        "        dbscan_model = DBSCAN(eps=epsilon, min_samples = k)\n",
        "        dbscan_model = dbscan(dbscan_model, train_image)\n",
        "        core_samples_mask = np.zeros_like(dbscan_model.labels_, dtype=bool)\n",
        "        core_samples_mask[dbscan_model.core_sample_indices_] = True\n",
        "        labels = dbscan_model.labels_\n",
        "\n",
        "        # Number of clusters in labels, ignoring noise if present.\n",
        "        n_clusters = len(set(labels)) - (1 if -1 in labels else 0)\n",
        "        n_noise = list(labels).count(-1)\n",
        "        with open('myfile.csv', 'a', newline='') as f:\n",
        "            writer = csv.writer(f)\n",
        "            print([k,epsilon,n_clusters,n_noise])\n",
        "            writer.writerow([k,epsilon, n_clusters,n_noise])\n",
        "        epsilon+=0.001    "
      ]
    },
    {
      "cell_type": "code",
      "execution_count": 20,
      "metadata": {
        "colab": {
          "base_uri": "https://localhost:8080/"
        },
        "id": "3FI-Z0v380I0",
        "outputId": "6e56ea56-391a-4372-d087-57b283f15e8c"
      },
      "outputs": [
        {
          "name": "stdout",
          "output_type": "stream",
          "text": [
            "Estimated number of clusters: 1\n",
            "Estimated number of noise points: 13049\n"
          ]
        }
      ],
      "source": [
        "core_samples_mask = np.zeros_like(dbscan_model.labels_, dtype=bool)\n",
        "core_samples_mask[dbscan_model.core_sample_indices_] = True\n",
        "labels = dbscan_model.labels_\n",
        "\n",
        "# Number of clusters in labels, ignoring noise if present.\n",
        "n_clusters_ = len(set(labels)) - (1 if -1 in labels else 0)\n",
        "n_noise_ = list(labels).count(-1)\n",
        "\n",
        "print('Estimated number of clusters: %d' % n_clusters_)\n",
        "print('Estimated number of noise points: %d' % n_noise_)"
      ]
    },
    {
      "cell_type": "code",
      "execution_count": null,
      "metadata": {},
      "outputs": [
        {
          "name": "stdout",
          "output_type": "stream",
          "text": [
            "8.99 %\n"
          ]
        }
      ],
      "source": [
        "# Calculating water percentage for before image\n",
        "\n",
        "arr_before = np.unique(dbscan_before_labels, return_counts=True)\n",
        "key_before, val_before = arr_before\n",
        "water_before = val_before[2]/(val_before[0] + val_before[1] + val_before[2] + val_before[3] + val_before[4]) * 100\n",
        "print(\"%.2f\" %water_before, \"%\")"
      ]
    },
    {
      "cell_type": "code",
      "execution_count": null,
      "metadata": {},
      "outputs": [
        {
          "name": "stdout",
          "output_type": "stream",
          "text": [
            "45.51 %\n"
          ]
        }
      ],
      "source": [
        "# Calculating water percentage for after image\n",
        "arr_after = np.unique(dbscan_after_labels, return_counts=True)\n",
        "key_after, val_after = arr_after\n",
        "water_after = val_after[2]/(val_after[0] + val_after[1] + val_after[2] + val_after[3]) * 100\n",
        "print(\"%.2f\" %water_after, \"%\")"
      ]
    },
    {
      "cell_type": "code",
      "execution_count": null,
      "metadata": {
        "colab": {
          "base_uri": "https://localhost:8080/"
        },
        "id": "uNf62_TiDJhs",
        "outputId": "09ef3601-3119-43a6-bf86-f2670795a81d"
      },
      "outputs": [
        {
          "name": "stdout",
          "output_type": "stream",
          "text": [
            "36.52 %\n"
          ]
        }
      ],
      "source": [
        "# Calculating Flood Increase\n",
        "\n",
        "flood_increase = water_after - water_before\n",
        "print(\"%.2f\" %flood_increase, \"%\")"
      ]
    },
    {
      "cell_type": "code",
      "execution_count": 24,
      "metadata": {},
      "outputs": [
        {
          "data": {
            "text/plain": [
              "0.36859936"
            ]
          },
          "execution_count": 24,
          "metadata": {},
          "output_type": "execute_result"
        }
      ],
      "source": [
        "# Calculating silhouette score for comparision\n",
        "\n",
        "sklearn.metrics.silhouette_score(X_after, dbscan_after_labels)"
      ]
    }
  ],
  "metadata": {
    "colab": {
      "provenance": []
    },
    "kernelspec": {
      "display_name": "Python 3.9.7 ('base')",
      "language": "python",
      "name": "python3"
    },
    "language_info": {
      "codemirror_mode": {
        "name": "ipython",
        "version": 3
      },
      "file_extension": ".py",
      "mimetype": "text/x-python",
      "name": "python",
      "nbconvert_exporter": "python",
      "pygments_lexer": "ipython3",
      "version": "3.9.7"
    },
    "vscode": {
      "interpreter": {
        "hash": "57bc2b6ce032b5f0e93daa91901b7ea38a856826ef43aa9e95b6d3999f5310df"
      }
    }
  },
  "nbformat": 4,
  "nbformat_minor": 0
}
